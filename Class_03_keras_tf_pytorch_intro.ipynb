{
  "nbformat": 4,
  "nbformat_minor": 0,
  "metadata": {
    "colab": {
      "provenance": [],
      "gpuType": "T4",
      "toc_visible": true,
      "include_colab_link": true
    },
    "kernelspec": {
      "name": "python3",
      "display_name": "Python 3"
    },
    "language_info": {
      "name": "python"
    },
    "accelerator": "GPU"
  },
  "cells": [
    {
      "cell_type": "markdown",
      "metadata": {
        "id": "view-in-github",
        "colab_type": "text"
      },
      "source": [
        "<a href=\"https://colab.research.google.com/github/tasdid25/Deep-Learning/blob/main/Class_03_keras_tf_pytorch_intro.ipynb\" target=\"_parent\"><img src=\"https://colab.research.google.com/assets/colab-badge.svg\" alt=\"Open In Colab\"/></a>"
      ]
    },
    {
      "cell_type": "markdown",
      "source": [
        "## Keras"
      ],
      "metadata": {
        "id": "e0feg7m4W7lO"
      }
    },
    {
      "cell_type": "code",
      "source": [
        "!pip install keras"
      ],
      "metadata": {
        "colab": {
          "base_uri": "https://localhost:8080/"
        },
        "id": "wpsUOvXqXjp0",
        "outputId": "11a8573e-fd98-4007-a31d-c343272e16f0"
      },
      "execution_count": null,
      "outputs": [
        {
          "output_type": "stream",
          "name": "stdout",
          "text": [
            "Requirement already satisfied: keras in /usr/local/lib/python3.10/dist-packages (3.4.1)\n",
            "Requirement already satisfied: absl-py in /usr/local/lib/python3.10/dist-packages (from keras) (1.4.0)\n",
            "Requirement already satisfied: numpy in /usr/local/lib/python3.10/dist-packages (from keras) (1.26.4)\n",
            "Requirement already satisfied: rich in /usr/local/lib/python3.10/dist-packages (from keras) (13.8.0)\n",
            "Requirement already satisfied: namex in /usr/local/lib/python3.10/dist-packages (from keras) (0.0.8)\n",
            "Requirement already satisfied: h5py in /usr/local/lib/python3.10/dist-packages (from keras) (3.11.0)\n",
            "Requirement already satisfied: optree in /usr/local/lib/python3.10/dist-packages (from keras) (0.12.1)\n",
            "Requirement already satisfied: ml-dtypes in /usr/local/lib/python3.10/dist-packages (from keras) (0.4.0)\n",
            "Requirement already satisfied: packaging in /usr/local/lib/python3.10/dist-packages (from keras) (24.1)\n",
            "Requirement already satisfied: typing-extensions>=4.5.0 in /usr/local/lib/python3.10/dist-packages (from optree->keras) (4.12.2)\n",
            "Requirement already satisfied: markdown-it-py>=2.2.0 in /usr/local/lib/python3.10/dist-packages (from rich->keras) (3.0.0)\n",
            "Requirement already satisfied: pygments<3.0.0,>=2.13.0 in /usr/local/lib/python3.10/dist-packages (from rich->keras) (2.16.1)\n",
            "Requirement already satisfied: mdurl~=0.1 in /usr/local/lib/python3.10/dist-packages (from markdown-it-py>=2.2.0->rich->keras) (0.1.2)\n"
          ]
        }
      ]
    },
    {
      "cell_type": "code",
      "execution_count": null,
      "metadata": {
        "colab": {
          "base_uri": "https://localhost:8080/",
          "height": 248
        },
        "id": "8l-5qjI9WhgF",
        "outputId": "24a446f7-8bf4-4495-9604-dc44a64ba4b0"
      },
      "outputs": [
        {
          "output_type": "stream",
          "name": "stderr",
          "text": [
            "/usr/local/lib/python3.10/dist-packages/keras/src/layers/core/dense.py:87: UserWarning: Do not pass an `input_shape`/`input_dim` argument to a layer. When using Sequential models, prefer using an `Input(shape)` object as the first layer in the model instead.\n",
            "  super().__init__(activity_regularizer=activity_regularizer, **kwargs)\n"
          ]
        },
        {
          "output_type": "display_data",
          "data": {
            "text/plain": [
              "\u001b[1mModel: \"sequential\"\u001b[0m\n"
            ],
            "text/html": [
              "<pre style=\"white-space:pre;overflow-x:auto;line-height:normal;font-family:Menlo,'DejaVu Sans Mono',consolas,'Courier New',monospace\"><span style=\"font-weight: bold\">Model: \"sequential\"</span>\n",
              "</pre>\n"
            ]
          },
          "metadata": {}
        },
        {
          "output_type": "display_data",
          "data": {
            "text/plain": [
              "┏━━━━━━━━━━━━━━━━━━━━━━━━━━━━━━━━━━━━━━┳━━━━━━━━━━━━━━━━━━━━━━━━━━━━━┳━━━━━━━━━━━━━━━━━┓\n",
              "┃\u001b[1m \u001b[0m\u001b[1mLayer (type)                        \u001b[0m\u001b[1m \u001b[0m┃\u001b[1m \u001b[0m\u001b[1mOutput Shape               \u001b[0m\u001b[1m \u001b[0m┃\u001b[1m \u001b[0m\u001b[1m        Param #\u001b[0m\u001b[1m \u001b[0m┃\n",
              "┡━━━━━━━━━━━━━━━━━━━━━━━━━━━━━━━━━━━━━━╇━━━━━━━━━━━━━━━━━━━━━━━━━━━━━╇━━━━━━━━━━━━━━━━━┩\n",
              "│ dense (\u001b[38;5;33mDense\u001b[0m)                        │ (\u001b[38;5;45mNone\u001b[0m, \u001b[38;5;34m10\u001b[0m)                  │              \u001b[38;5;34m50\u001b[0m │\n",
              "├──────────────────────────────────────┼─────────────────────────────┼─────────────────┤\n",
              "│ dense_1 (\u001b[38;5;33mDense\u001b[0m)                      │ (\u001b[38;5;45mNone\u001b[0m, \u001b[38;5;34m1\u001b[0m)                   │              \u001b[38;5;34m11\u001b[0m │\n",
              "└──────────────────────────────────────┴─────────────────────────────┴─────────────────┘\n"
            ],
            "text/html": [
              "<pre style=\"white-space:pre;overflow-x:auto;line-height:normal;font-family:Menlo,'DejaVu Sans Mono',consolas,'Courier New',monospace\">┏━━━━━━━━━━━━━━━━━━━━━━━━━━━━━━━━━━━━━━┳━━━━━━━━━━━━━━━━━━━━━━━━━━━━━┳━━━━━━━━━━━━━━━━━┓\n",
              "┃<span style=\"font-weight: bold\"> Layer (type)                         </span>┃<span style=\"font-weight: bold\"> Output Shape                </span>┃<span style=\"font-weight: bold\">         Param # </span>┃\n",
              "┡━━━━━━━━━━━━━━━━━━━━━━━━━━━━━━━━━━━━━━╇━━━━━━━━━━━━━━━━━━━━━━━━━━━━━╇━━━━━━━━━━━━━━━━━┩\n",
              "│ dense (<span style=\"color: #0087ff; text-decoration-color: #0087ff\">Dense</span>)                        │ (<span style=\"color: #00d7ff; text-decoration-color: #00d7ff\">None</span>, <span style=\"color: #00af00; text-decoration-color: #00af00\">10</span>)                  │              <span style=\"color: #00af00; text-decoration-color: #00af00\">50</span> │\n",
              "├──────────────────────────────────────┼─────────────────────────────┼─────────────────┤\n",
              "│ dense_1 (<span style=\"color: #0087ff; text-decoration-color: #0087ff\">Dense</span>)                      │ (<span style=\"color: #00d7ff; text-decoration-color: #00d7ff\">None</span>, <span style=\"color: #00af00; text-decoration-color: #00af00\">1</span>)                   │              <span style=\"color: #00af00; text-decoration-color: #00af00\">11</span> │\n",
              "└──────────────────────────────────────┴─────────────────────────────┴─────────────────┘\n",
              "</pre>\n"
            ]
          },
          "metadata": {}
        },
        {
          "output_type": "display_data",
          "data": {
            "text/plain": [
              "\u001b[1m Total params: \u001b[0m\u001b[38;5;34m61\u001b[0m (244.00 B)\n"
            ],
            "text/html": [
              "<pre style=\"white-space:pre;overflow-x:auto;line-height:normal;font-family:Menlo,'DejaVu Sans Mono',consolas,'Courier New',monospace\"><span style=\"font-weight: bold\"> Total params: </span><span style=\"color: #00af00; text-decoration-color: #00af00\">61</span> (244.00 B)\n",
              "</pre>\n"
            ]
          },
          "metadata": {}
        },
        {
          "output_type": "display_data",
          "data": {
            "text/plain": [
              "\u001b[1m Trainable params: \u001b[0m\u001b[38;5;34m61\u001b[0m (244.00 B)\n"
            ],
            "text/html": [
              "<pre style=\"white-space:pre;overflow-x:auto;line-height:normal;font-family:Menlo,'DejaVu Sans Mono',consolas,'Courier New',monospace\"><span style=\"font-weight: bold\"> Trainable params: </span><span style=\"color: #00af00; text-decoration-color: #00af00\">61</span> (244.00 B)\n",
              "</pre>\n"
            ]
          },
          "metadata": {}
        },
        {
          "output_type": "display_data",
          "data": {
            "text/plain": [
              "\u001b[1m Non-trainable params: \u001b[0m\u001b[38;5;34m0\u001b[0m (0.00 B)\n"
            ],
            "text/html": [
              "<pre style=\"white-space:pre;overflow-x:auto;line-height:normal;font-family:Menlo,'DejaVu Sans Mono',consolas,'Courier New',monospace\"><span style=\"font-weight: bold\"> Non-trainable params: </span><span style=\"color: #00af00; text-decoration-color: #00af00\">0</span> (0.00 B)\n",
              "</pre>\n"
            ]
          },
          "metadata": {}
        }
      ],
      "source": [
        "from keras.models import Sequential\n",
        "from keras.layers import Dense\n",
        "\n",
        "# Define a simple Sequential model using standalone Keras\n",
        "model = Sequential([\n",
        "    Dense(10, activation='relu', input_shape=(4,)),  # Hidden layer\n",
        "    Dense(5, activation='relu'),  # Hidden layer\n",
        "    Dense(1, activation='sigmoid')  # Output layer for binary classification\n",
        "])\n",
        "\n",
        "# Compile the model\n",
        "model.compile(optimizer='adam', loss='binary_crossentropy', metrics=['accuracy'])\n",
        "\n",
        "# Print the model summary\n",
        "model.summary()\n"
      ]
    },
    {
      "cell_type": "code",
      "source": [
        "import tensorflow as tf\n",
        "\n",
        "# Define a simple Sequential model\n",
        "model = tf.keras.Sequential([\n",
        "    tf.keras.layers.Dense(10, activation='relu', input_shape=(4,)),\n",
        "    tf.keras.layers.Dense(1, activation='sigmoid')\n",
        "])\n",
        "\n",
        "model.compile(optimizer='adam', loss='binary_crossentropy')\n",
        "\n",
        "# Print the model summary\n",
        "model.summary()"
      ],
      "metadata": {
        "colab": {
          "base_uri": "https://localhost:8080/",
          "height": 193
        },
        "id": "B0cPIIGeX433",
        "outputId": "27b9601e-edb0-483a-9fac-fa7be8d78efb"
      },
      "execution_count": null,
      "outputs": [
        {
          "output_type": "display_data",
          "data": {
            "text/plain": [
              "\u001b[1mModel: \"sequential_6\"\u001b[0m\n"
            ],
            "text/html": [
              "<pre style=\"white-space:pre;overflow-x:auto;line-height:normal;font-family:Menlo,'DejaVu Sans Mono',consolas,'Courier New',monospace\"><span style=\"font-weight: bold\">Model: \"sequential_6\"</span>\n",
              "</pre>\n"
            ]
          },
          "metadata": {}
        },
        {
          "output_type": "display_data",
          "data": {
            "text/plain": [
              "┏━━━━━━━━━━━━━━━━━━━━━━━━━━━━━━━━━━━━━━┳━━━━━━━━━━━━━━━━━━━━━━━━━━━━━┳━━━━━━━━━━━━━━━━━┓\n",
              "┃\u001b[1m \u001b[0m\u001b[1mLayer (type)                        \u001b[0m\u001b[1m \u001b[0m┃\u001b[1m \u001b[0m\u001b[1mOutput Shape               \u001b[0m\u001b[1m \u001b[0m┃\u001b[1m \u001b[0m\u001b[1m        Param #\u001b[0m\u001b[1m \u001b[0m┃\n",
              "┡━━━━━━━━━━━━━━━━━━━━━━━━━━━━━━━━━━━━━━╇━━━━━━━━━━━━━━━━━━━━━━━━━━━━━╇━━━━━━━━━━━━━━━━━┩\n",
              "│ dense_12 (\u001b[38;5;33mDense\u001b[0m)                     │ (\u001b[38;5;45mNone\u001b[0m, \u001b[38;5;34m10\u001b[0m)                  │              \u001b[38;5;34m50\u001b[0m │\n",
              "├──────────────────────────────────────┼─────────────────────────────┼─────────────────┤\n",
              "│ dense_13 (\u001b[38;5;33mDense\u001b[0m)                     │ (\u001b[38;5;45mNone\u001b[0m, \u001b[38;5;34m1\u001b[0m)                   │              \u001b[38;5;34m11\u001b[0m │\n",
              "└──────────────────────────────────────┴─────────────────────────────┴─────────────────┘\n"
            ],
            "text/html": [
              "<pre style=\"white-space:pre;overflow-x:auto;line-height:normal;font-family:Menlo,'DejaVu Sans Mono',consolas,'Courier New',monospace\">┏━━━━━━━━━━━━━━━━━━━━━━━━━━━━━━━━━━━━━━┳━━━━━━━━━━━━━━━━━━━━━━━━━━━━━┳━━━━━━━━━━━━━━━━━┓\n",
              "┃<span style=\"font-weight: bold\"> Layer (type)                         </span>┃<span style=\"font-weight: bold\"> Output Shape                </span>┃<span style=\"font-weight: bold\">         Param # </span>┃\n",
              "┡━━━━━━━━━━━━━━━━━━━━━━━━━━━━━━━━━━━━━━╇━━━━━━━━━━━━━━━━━━━━━━━━━━━━━╇━━━━━━━━━━━━━━━━━┩\n",
              "│ dense_12 (<span style=\"color: #0087ff; text-decoration-color: #0087ff\">Dense</span>)                     │ (<span style=\"color: #00d7ff; text-decoration-color: #00d7ff\">None</span>, <span style=\"color: #00af00; text-decoration-color: #00af00\">10</span>)                  │              <span style=\"color: #00af00; text-decoration-color: #00af00\">50</span> │\n",
              "├──────────────────────────────────────┼─────────────────────────────┼─────────────────┤\n",
              "│ dense_13 (<span style=\"color: #0087ff; text-decoration-color: #0087ff\">Dense</span>)                     │ (<span style=\"color: #00d7ff; text-decoration-color: #00d7ff\">None</span>, <span style=\"color: #00af00; text-decoration-color: #00af00\">1</span>)                   │              <span style=\"color: #00af00; text-decoration-color: #00af00\">11</span> │\n",
              "└──────────────────────────────────────┴─────────────────────────────┴─────────────────┘\n",
              "</pre>\n"
            ]
          },
          "metadata": {}
        },
        {
          "output_type": "display_data",
          "data": {
            "text/plain": [
              "\u001b[1m Total params: \u001b[0m\u001b[38;5;34m61\u001b[0m (244.00 B)\n"
            ],
            "text/html": [
              "<pre style=\"white-space:pre;overflow-x:auto;line-height:normal;font-family:Menlo,'DejaVu Sans Mono',consolas,'Courier New',monospace\"><span style=\"font-weight: bold\"> Total params: </span><span style=\"color: #00af00; text-decoration-color: #00af00\">61</span> (244.00 B)\n",
              "</pre>\n"
            ]
          },
          "metadata": {}
        },
        {
          "output_type": "display_data",
          "data": {
            "text/plain": [
              "\u001b[1m Trainable params: \u001b[0m\u001b[38;5;34m61\u001b[0m (244.00 B)\n"
            ],
            "text/html": [
              "<pre style=\"white-space:pre;overflow-x:auto;line-height:normal;font-family:Menlo,'DejaVu Sans Mono',consolas,'Courier New',monospace\"><span style=\"font-weight: bold\"> Trainable params: </span><span style=\"color: #00af00; text-decoration-color: #00af00\">61</span> (244.00 B)\n",
              "</pre>\n"
            ]
          },
          "metadata": {}
        },
        {
          "output_type": "display_data",
          "data": {
            "text/plain": [
              "\u001b[1m Non-trainable params: \u001b[0m\u001b[38;5;34m0\u001b[0m (0.00 B)\n"
            ],
            "text/html": [
              "<pre style=\"white-space:pre;overflow-x:auto;line-height:normal;font-family:Menlo,'DejaVu Sans Mono',consolas,'Courier New',monospace\"><span style=\"font-weight: bold\"> Non-trainable params: </span><span style=\"color: #00af00; text-decoration-color: #00af00\">0</span> (0.00 B)\n",
              "</pre>\n"
            ]
          },
          "metadata": {}
        }
      ]
    },
    {
      "cell_type": "markdown",
      "source": [
        "## Tensorflow"
      ],
      "metadata": {
        "id": "wTXeOVRCX1QO"
      }
    },
    {
      "cell_type": "code",
      "source": [
        "import tensorflow as tf\n",
        "\n",
        "# Define tensors\n",
        "a = tf.constant([1.0, 2.0])\n",
        "b = tf.constant([3.0, 4.0])\n",
        "\n",
        "# Perform basic operations\n",
        "sum_result = tf.add(a, b)\n",
        "dot_product = tf.tensordot(a, b, axes=1)\n",
        "\n",
        "print(f\"Sum: {sum_result}\")\n",
        "print(f\"Dot Product: {dot_product}\")\n"
      ],
      "metadata": {
        "colab": {
          "base_uri": "https://localhost:8080/"
        },
        "id": "bEuQnzBUXpwK",
        "outputId": "97d6b026-b6c9-42dc-f196-01adf02a5d4e"
      },
      "execution_count": null,
      "outputs": [
        {
          "output_type": "stream",
          "name": "stdout",
          "text": [
            "Sum: [4. 6.]\n",
            "Dot Product: 11.0\n"
          ]
        }
      ]
    },
    {
      "cell_type": "code",
      "source": [
        "import tensorflow as tf\n",
        "\n",
        "# Define a simple neural network using TensorFlow's low-level API\n",
        "class SimpleNN(tf.Module):\n",
        "    def __init__(self):\n",
        "        super(SimpleNN, self).__init__()\n",
        "        self.w = tf.Variable(tf.random.normal([2, 2]), name=\"weight\")  # Weight matrix\n",
        "        self.b = tf.Variable(tf.zeros([2]), name=\"bias\")  # Bias vector\n",
        "\n",
        "    def __call__(self, x):\n",
        "        return tf.nn.relu(tf.matmul(x, self.w) + self.b)  # ReLU activation\n",
        "\n",
        "# Create a model and test it\n",
        "model = SimpleNN()\n",
        "input_data = tf.constant([[1.0, 2.0], [3.0, 4.0]])\n",
        "output = model(input_data)\n",
        "\n",
        "# Output result from model\n",
        "print(\"Output:\", output)\n",
        "\n",
        "# Display trainable parameters\n",
        "print(\"\\nTrainable Parameters:\")\n",
        "print(\"Weights (w):\")\n",
        "print(model.w.numpy())  # Display weight matrix\n",
        "print(\"Biases (b):\")\n",
        "print(model.b.numpy())  # Display bias vector\n"
      ],
      "metadata": {
        "colab": {
          "base_uri": "https://localhost:8080/"
        },
        "id": "DtSP-CGpYYlT",
        "outputId": "d62f27cf-ce97-4e27-a34e-dc95d46607f2"
      },
      "execution_count": null,
      "outputs": [
        {
          "output_type": "stream",
          "name": "stdout",
          "text": [
            "Output: tf.Tensor(\n",
            "[[0. 0.]\n",
            " [0. 0.]], shape=(2, 2), dtype=float32)\n",
            "\n",
            "Trainable Parameters:\n",
            "Weights (w):\n",
            "[[-0.2636091  -0.05070118]\n",
            " [-0.542976   -0.84076333]]\n",
            "Biases (b):\n",
            "[0. 0.]\n"
          ]
        }
      ]
    },
    {
      "cell_type": "markdown",
      "source": [
        "## Pytorch"
      ],
      "metadata": {
        "id": "biOmt_TEYqo2"
      }
    },
    {
      "cell_type": "code",
      "source": [
        "# Install PyTorch\n",
        "!pip install torch"
      ],
      "metadata": {
        "colab": {
          "base_uri": "https://localhost:8080/"
        },
        "id": "D7REMKsUYsHg",
        "outputId": "bad7f4b4-2388-4c69-ed3d-e2201ea33a79"
      },
      "execution_count": null,
      "outputs": [
        {
          "output_type": "stream",
          "name": "stdout",
          "text": [
            "Requirement already satisfied: torch in /usr/local/lib/python3.10/dist-packages (2.4.0+cu121)\n",
            "Requirement already satisfied: filelock in /usr/local/lib/python3.10/dist-packages (from torch) (3.15.4)\n",
            "Requirement already satisfied: typing-extensions>=4.8.0 in /usr/local/lib/python3.10/dist-packages (from torch) (4.12.2)\n",
            "Requirement already satisfied: sympy in /usr/local/lib/python3.10/dist-packages (from torch) (1.13.2)\n",
            "Requirement already satisfied: networkx in /usr/local/lib/python3.10/dist-packages (from torch) (3.3)\n",
            "Requirement already satisfied: jinja2 in /usr/local/lib/python3.10/dist-packages (from torch) (3.1.4)\n",
            "Requirement already satisfied: fsspec in /usr/local/lib/python3.10/dist-packages (from torch) (2024.6.1)\n",
            "Requirement already satisfied: MarkupSafe>=2.0 in /usr/local/lib/python3.10/dist-packages (from jinja2->torch) (2.1.5)\n",
            "Requirement already satisfied: mpmath<1.4,>=1.1.0 in /usr/local/lib/python3.10/dist-packages (from sympy->torch) (1.3.0)\n"
          ]
        }
      ]
    },
    {
      "cell_type": "code",
      "source": [
        "import torch\n",
        "\n",
        "# Define tensors\n",
        "a = torch.tensor([2.0, 3.0])\n",
        "b = torch.tensor([4.0, 5.0])\n",
        "\n",
        "# Perform basic operations\n",
        "sum_result = a + b\n",
        "dot_product = torch.dot(a, b)\n",
        "\n",
        "print(f\"Sum: {sum_result}\")\n",
        "print(f\"Dot Product: {dot_product}\")\n"
      ],
      "metadata": {
        "colab": {
          "base_uri": "https://localhost:8080/"
        },
        "id": "wne6pUwwYtPX",
        "outputId": "d37ea160-7357-4b33-829c-6bc16de06505"
      },
      "execution_count": null,
      "outputs": [
        {
          "output_type": "stream",
          "name": "stdout",
          "text": [
            "Sum: tensor([6., 8.])\n",
            "Dot Product: 23.0\n"
          ]
        }
      ]
    },
    {
      "cell_type": "code",
      "source": [
        "import torch\n",
        "import torch.nn as nn\n",
        "import torch.optim as optim\n",
        "\n",
        "# Define a simple neural network\n",
        "class SimpleNN(nn.Module):\n",
        "    def __init__(self):\n",
        "        super(SimpleNN, self).__init__()\n",
        "        self.fc1 = nn.Linear(4, 10)  # Hidden layer\n",
        "        self.fc2 = nn.Linear(10, 1)  # Output layer\n",
        "\n",
        "    def forward(self, x):\n",
        "        x = torch.relu(self.fc1(x))  # Apply ReLU activation\n",
        "        x = torch.sigmoid(self.fc2(x))  # Apply Sigmoid activation for output\n",
        "        return x\n",
        "\n",
        "# Instantiate the model\n",
        "model = SimpleNN()\n",
        "\n",
        "# Print the model architecture\n",
        "print(\"Model architecture:\")\n",
        "print(model)\n",
        "\n",
        "# Example input to test the model\n",
        "input_data = torch.rand(1, 4)  # Batch size = 1, input features = 4\n",
        "output = model(input_data)\n",
        "print(f\"\\nOutput: {output}\")\n",
        "\n",
        "# Print trainable parameters (weights and biases)\n",
        "print(\"\\nTrainable Parameters:\")\n",
        "for name, param in model.named_parameters():\n",
        "    print(f\"{name}:\\n{param.data}\")\n"
      ],
      "metadata": {
        "colab": {
          "base_uri": "https://localhost:8080/"
        },
        "id": "iqzaZV3jYwhm",
        "outputId": "ebd5d8a0-c72f-4d9b-f825-796e4ae9739f"
      },
      "execution_count": null,
      "outputs": [
        {
          "output_type": "stream",
          "name": "stdout",
          "text": [
            "Model architecture:\n",
            "SimpleNN(\n",
            "  (fc1): Linear(in_features=4, out_features=10, bias=True)\n",
            "  (fc2): Linear(in_features=10, out_features=1, bias=True)\n",
            ")\n",
            "\n",
            "Output: tensor([[0.5124]], grad_fn=<SigmoidBackward0>)\n",
            "\n",
            "Trainable Parameters:\n",
            "fc1.weight:\n",
            "tensor([[ 0.0033, -0.1285,  0.3380,  0.4460],\n",
            "        [ 0.3382,  0.0753, -0.3293, -0.2366],\n",
            "        [-0.4868,  0.0969, -0.0578,  0.2107],\n",
            "        [-0.0992, -0.0196,  0.4372,  0.1009],\n",
            "        [ 0.1564, -0.0702,  0.2703, -0.1601],\n",
            "        [-0.3489,  0.3057, -0.4073,  0.4768],\n",
            "        [ 0.1674,  0.1839,  0.1450,  0.2702],\n",
            "        [-0.1679,  0.0356, -0.4012, -0.0204],\n",
            "        [ 0.4784, -0.4756, -0.2024, -0.4689],\n",
            "        [-0.4411,  0.1625,  0.3586,  0.4580]])\n",
            "fc1.bias:\n",
            "tensor([ 0.4942, -0.3895, -0.0091, -0.4373, -0.2156, -0.1064, -0.2598,  0.2839,\n",
            "         0.3477,  0.2874])\n",
            "fc2.weight:\n",
            "tensor([[-0.1096,  0.1233,  0.1748, -0.1930,  0.2932,  0.1198, -0.2444, -0.2816,\n",
            "         -0.0688,  0.1123]])\n",
            "fc2.bias:\n",
            "tensor([0.1358])\n"
          ]
        }
      ]
    },
    {
      "cell_type": "markdown",
      "source": [
        "## Experiments with IRIS Data with Keras"
      ],
      "metadata": {
        "id": "oXELIM9BZrq9"
      }
    },
    {
      "cell_type": "code",
      "source": [
        "import numpy as np\n",
        "import tensorflow as tf\n",
        "from sklearn.datasets import load_iris\n",
        "from sklearn.model_selection import train_test_split\n",
        "from sklearn.preprocessing import OneHotEncoder, StandardScaler\n",
        "\n",
        "# Load the Iris dataset\n",
        "iris = load_iris()\n",
        "X = iris.data\n",
        "y = iris.target\n",
        "\n",
        "print(X)\n",
        "print(y)\n",
        "\n",
        "\n",
        "# One-hot encode the labels (since we have 3 classes)\n",
        "encoder = OneHotEncoder(sparse=False)\n",
        "y = encoder.fit_transform(y.reshape(-1, 1))\n",
        "\n",
        "# Split the dataset into training and testing sets\n",
        "X_train, X_test, y_train, y_test = train_test_split(X, y, test_size=0.2, random_state=42)\n",
        "\n",
        "# Standardize the data\n",
        "scaler = StandardScaler()\n",
        "X_train = scaler.fit_transform(X_train)\n",
        "X_test = scaler.transform(X_test)\n",
        "\n"
      ],
      "metadata": {
        "colab": {
          "base_uri": "https://localhost:8080/"
        },
        "id": "C3ExdICSY5Wf",
        "outputId": "24762fc4-b2d5-4567-ec76-fa226c214475"
      },
      "execution_count": null,
      "outputs": [
        {
          "output_type": "stream",
          "name": "stdout",
          "text": [
            "[[5.1 3.5 1.4 0.2]\n",
            " [4.9 3.  1.4 0.2]\n",
            " [4.7 3.2 1.3 0.2]\n",
            " [4.6 3.1 1.5 0.2]\n",
            " [5.  3.6 1.4 0.2]\n",
            " [5.4 3.9 1.7 0.4]\n",
            " [4.6 3.4 1.4 0.3]\n",
            " [5.  3.4 1.5 0.2]\n",
            " [4.4 2.9 1.4 0.2]\n",
            " [4.9 3.1 1.5 0.1]\n",
            " [5.4 3.7 1.5 0.2]\n",
            " [4.8 3.4 1.6 0.2]\n",
            " [4.8 3.  1.4 0.1]\n",
            " [4.3 3.  1.1 0.1]\n",
            " [5.8 4.  1.2 0.2]\n",
            " [5.7 4.4 1.5 0.4]\n",
            " [5.4 3.9 1.3 0.4]\n",
            " [5.1 3.5 1.4 0.3]\n",
            " [5.7 3.8 1.7 0.3]\n",
            " [5.1 3.8 1.5 0.3]\n",
            " [5.4 3.4 1.7 0.2]\n",
            " [5.1 3.7 1.5 0.4]\n",
            " [4.6 3.6 1.  0.2]\n",
            " [5.1 3.3 1.7 0.5]\n",
            " [4.8 3.4 1.9 0.2]\n",
            " [5.  3.  1.6 0.2]\n",
            " [5.  3.4 1.6 0.4]\n",
            " [5.2 3.5 1.5 0.2]\n",
            " [5.2 3.4 1.4 0.2]\n",
            " [4.7 3.2 1.6 0.2]\n",
            " [4.8 3.1 1.6 0.2]\n",
            " [5.4 3.4 1.5 0.4]\n",
            " [5.2 4.1 1.5 0.1]\n",
            " [5.5 4.2 1.4 0.2]\n",
            " [4.9 3.1 1.5 0.2]\n",
            " [5.  3.2 1.2 0.2]\n",
            " [5.5 3.5 1.3 0.2]\n",
            " [4.9 3.6 1.4 0.1]\n",
            " [4.4 3.  1.3 0.2]\n",
            " [5.1 3.4 1.5 0.2]\n",
            " [5.  3.5 1.3 0.3]\n",
            " [4.5 2.3 1.3 0.3]\n",
            " [4.4 3.2 1.3 0.2]\n",
            " [5.  3.5 1.6 0.6]\n",
            " [5.1 3.8 1.9 0.4]\n",
            " [4.8 3.  1.4 0.3]\n",
            " [5.1 3.8 1.6 0.2]\n",
            " [4.6 3.2 1.4 0.2]\n",
            " [5.3 3.7 1.5 0.2]\n",
            " [5.  3.3 1.4 0.2]\n",
            " [7.  3.2 4.7 1.4]\n",
            " [6.4 3.2 4.5 1.5]\n",
            " [6.9 3.1 4.9 1.5]\n",
            " [5.5 2.3 4.  1.3]\n",
            " [6.5 2.8 4.6 1.5]\n",
            " [5.7 2.8 4.5 1.3]\n",
            " [6.3 3.3 4.7 1.6]\n",
            " [4.9 2.4 3.3 1. ]\n",
            " [6.6 2.9 4.6 1.3]\n",
            " [5.2 2.7 3.9 1.4]\n",
            " [5.  2.  3.5 1. ]\n",
            " [5.9 3.  4.2 1.5]\n",
            " [6.  2.2 4.  1. ]\n",
            " [6.1 2.9 4.7 1.4]\n",
            " [5.6 2.9 3.6 1.3]\n",
            " [6.7 3.1 4.4 1.4]\n",
            " [5.6 3.  4.5 1.5]\n",
            " [5.8 2.7 4.1 1. ]\n",
            " [6.2 2.2 4.5 1.5]\n",
            " [5.6 2.5 3.9 1.1]\n",
            " [5.9 3.2 4.8 1.8]\n",
            " [6.1 2.8 4.  1.3]\n",
            " [6.3 2.5 4.9 1.5]\n",
            " [6.1 2.8 4.7 1.2]\n",
            " [6.4 2.9 4.3 1.3]\n",
            " [6.6 3.  4.4 1.4]\n",
            " [6.8 2.8 4.8 1.4]\n",
            " [6.7 3.  5.  1.7]\n",
            " [6.  2.9 4.5 1.5]\n",
            " [5.7 2.6 3.5 1. ]\n",
            " [5.5 2.4 3.8 1.1]\n",
            " [5.5 2.4 3.7 1. ]\n",
            " [5.8 2.7 3.9 1.2]\n",
            " [6.  2.7 5.1 1.6]\n",
            " [5.4 3.  4.5 1.5]\n",
            " [6.  3.4 4.5 1.6]\n",
            " [6.7 3.1 4.7 1.5]\n",
            " [6.3 2.3 4.4 1.3]\n",
            " [5.6 3.  4.1 1.3]\n",
            " [5.5 2.5 4.  1.3]\n",
            " [5.5 2.6 4.4 1.2]\n",
            " [6.1 3.  4.6 1.4]\n",
            " [5.8 2.6 4.  1.2]\n",
            " [5.  2.3 3.3 1. ]\n",
            " [5.6 2.7 4.2 1.3]\n",
            " [5.7 3.  4.2 1.2]\n",
            " [5.7 2.9 4.2 1.3]\n",
            " [6.2 2.9 4.3 1.3]\n",
            " [5.1 2.5 3.  1.1]\n",
            " [5.7 2.8 4.1 1.3]\n",
            " [6.3 3.3 6.  2.5]\n",
            " [5.8 2.7 5.1 1.9]\n",
            " [7.1 3.  5.9 2.1]\n",
            " [6.3 2.9 5.6 1.8]\n",
            " [6.5 3.  5.8 2.2]\n",
            " [7.6 3.  6.6 2.1]\n",
            " [4.9 2.5 4.5 1.7]\n",
            " [7.3 2.9 6.3 1.8]\n",
            " [6.7 2.5 5.8 1.8]\n",
            " [7.2 3.6 6.1 2.5]\n",
            " [6.5 3.2 5.1 2. ]\n",
            " [6.4 2.7 5.3 1.9]\n",
            " [6.8 3.  5.5 2.1]\n",
            " [5.7 2.5 5.  2. ]\n",
            " [5.8 2.8 5.1 2.4]\n",
            " [6.4 3.2 5.3 2.3]\n",
            " [6.5 3.  5.5 1.8]\n",
            " [7.7 3.8 6.7 2.2]\n",
            " [7.7 2.6 6.9 2.3]\n",
            " [6.  2.2 5.  1.5]\n",
            " [6.9 3.2 5.7 2.3]\n",
            " [5.6 2.8 4.9 2. ]\n",
            " [7.7 2.8 6.7 2. ]\n",
            " [6.3 2.7 4.9 1.8]\n",
            " [6.7 3.3 5.7 2.1]\n",
            " [7.2 3.2 6.  1.8]\n",
            " [6.2 2.8 4.8 1.8]\n",
            " [6.1 3.  4.9 1.8]\n",
            " [6.4 2.8 5.6 2.1]\n",
            " [7.2 3.  5.8 1.6]\n",
            " [7.4 2.8 6.1 1.9]\n",
            " [7.9 3.8 6.4 2. ]\n",
            " [6.4 2.8 5.6 2.2]\n",
            " [6.3 2.8 5.1 1.5]\n",
            " [6.1 2.6 5.6 1.4]\n",
            " [7.7 3.  6.1 2.3]\n",
            " [6.3 3.4 5.6 2.4]\n",
            " [6.4 3.1 5.5 1.8]\n",
            " [6.  3.  4.8 1.8]\n",
            " [6.9 3.1 5.4 2.1]\n",
            " [6.7 3.1 5.6 2.4]\n",
            " [6.9 3.1 5.1 2.3]\n",
            " [5.8 2.7 5.1 1.9]\n",
            " [6.8 3.2 5.9 2.3]\n",
            " [6.7 3.3 5.7 2.5]\n",
            " [6.7 3.  5.2 2.3]\n",
            " [6.3 2.5 5.  1.9]\n",
            " [6.5 3.  5.2 2. ]\n",
            " [6.2 3.4 5.4 2.3]\n",
            " [5.9 3.  5.1 1.8]]\n",
            "[0 0 0 0 0 0 0 0 0 0 0 0 0 0 0 0 0 0 0 0 0 0 0 0 0 0 0 0 0 0 0 0 0 0 0 0 0\n",
            " 0 0 0 0 0 0 0 0 0 0 0 0 0 1 1 1 1 1 1 1 1 1 1 1 1 1 1 1 1 1 1 1 1 1 1 1 1\n",
            " 1 1 1 1 1 1 1 1 1 1 1 1 1 1 1 1 1 1 1 1 1 1 1 1 1 1 2 2 2 2 2 2 2 2 2 2 2\n",
            " 2 2 2 2 2 2 2 2 2 2 2 2 2 2 2 2 2 2 2 2 2 2 2 2 2 2 2 2 2 2 2 2 2 2 2 2 2\n",
            " 2 2]\n"
          ]
        },
        {
          "output_type": "stream",
          "name": "stderr",
          "text": [
            "/usr/local/lib/python3.10/dist-packages/sklearn/preprocessing/_encoders.py:975: FutureWarning: `sparse` was renamed to `sparse_output` in version 1.2 and will be removed in 1.4. `sparse_output` is ignored unless you leave `sparse` to its default value.\n",
            "  warnings.warn(\n"
          ]
        }
      ]
    },
    {
      "cell_type": "code",
      "source": [
        "# Define a simple neural network using Sigmoid activation in all layers\n",
        "def build_model_sigmoid():\n",
        "    model = Sequential([\n",
        "        Dense(10, activation='sigmoid', input_shape=(4,)),  # Hidden layer with Sigmoid\n",
        "        Dense(10, activation='sigmoid'),  # Another hidden layer with Sigmoid\n",
        "        Dense(3, activation='softmax')  # Output layer with softmax for classification\n",
        "    ])\n",
        "    model.compile(optimizer='adam', loss='categorical_crossentropy', metrics=['accuracy'])\n",
        "    return model\n",
        "\n",
        "# Build the model\n",
        "model_sigmoid = build_model_sigmoid()\n",
        "\n",
        "# Train the model\n",
        "history_sigmoid = model_sigmoid.fit(X_train, y_train, epochs=50, validation_data=(X_test, y_test), verbose=2)\n",
        "\n",
        "# Evaluate the model\n",
        "test_loss_sigmoid, test_acc_sigmoid = model_sigmoid.evaluate(X_test, y_test, verbose=2)\n",
        "print(f\"Test Accuracy (All Sigmoid): {test_acc_sigmoid}\")\n"
      ],
      "metadata": {
        "colab": {
          "base_uri": "https://localhost:8080/"
        },
        "id": "A2Eib5paZ4ZA",
        "outputId": "a7ff30c5-9eb0-40fb-8875-4337ce486a8d"
      },
      "execution_count": null,
      "outputs": [
        {
          "output_type": "stream",
          "name": "stderr",
          "text": [
            "/usr/local/lib/python3.10/dist-packages/keras/src/layers/core/dense.py:87: UserWarning: Do not pass an `input_shape`/`input_dim` argument to a layer. When using Sequential models, prefer using an `Input(shape)` object as the first layer in the model instead.\n",
            "  super().__init__(activity_regularizer=activity_regularizer, **kwargs)\n"
          ]
        },
        {
          "output_type": "stream",
          "name": "stdout",
          "text": [
            "Epoch 1/50\n",
            "4/4 - 7s - 2s/step - accuracy: 0.3333 - loss: 1.1235 - val_accuracy: 0.3333 - val_loss: 1.1166\n",
            "Epoch 2/50\n",
            "4/4 - 4s - 1s/step - accuracy: 0.3333 - loss: 1.1173 - val_accuracy: 0.3333 - val_loss: 1.1114\n",
            "Epoch 3/50\n",
            "4/4 - 0s - 14ms/step - accuracy: 0.3333 - loss: 1.1125 - val_accuracy: 0.3333 - val_loss: 1.1069\n",
            "Epoch 4/50\n",
            "4/4 - 0s - 18ms/step - accuracy: 0.3333 - loss: 1.1070 - val_accuracy: 0.3333 - val_loss: 1.1029\n",
            "Epoch 5/50\n",
            "4/4 - 0s - 30ms/step - accuracy: 0.3333 - loss: 1.1036 - val_accuracy: 0.3333 - val_loss: 1.0990\n",
            "Epoch 6/50\n",
            "4/4 - 0s - 14ms/step - accuracy: 0.3333 - loss: 1.0987 - val_accuracy: 0.3333 - val_loss: 1.0954\n",
            "Epoch 7/50\n",
            "4/4 - 0s - 13ms/step - accuracy: 0.3333 - loss: 1.0947 - val_accuracy: 0.3333 - val_loss: 1.0919\n",
            "Epoch 8/50\n",
            "4/4 - 0s - 12ms/step - accuracy: 0.3333 - loss: 1.0910 - val_accuracy: 0.3333 - val_loss: 1.0883\n",
            "Epoch 9/50\n",
            "4/4 - 0s - 13ms/step - accuracy: 0.3333 - loss: 1.0873 - val_accuracy: 0.3333 - val_loss: 1.0848\n",
            "Epoch 10/50\n",
            "4/4 - 0s - 13ms/step - accuracy: 0.3417 - loss: 1.0836 - val_accuracy: 0.3333 - val_loss: 1.0813\n",
            "Epoch 11/50\n",
            "4/4 - 0s - 12ms/step - accuracy: 0.3750 - loss: 1.0801 - val_accuracy: 0.4000 - val_loss: 1.0779\n",
            "Epoch 12/50\n",
            "4/4 - 0s - 15ms/step - accuracy: 0.4083 - loss: 1.0764 - val_accuracy: 0.4000 - val_loss: 1.0742\n",
            "Epoch 13/50\n",
            "4/4 - 0s - 14ms/step - accuracy: 0.4500 - loss: 1.0728 - val_accuracy: 0.4667 - val_loss: 1.0706\n",
            "Epoch 14/50\n",
            "4/4 - 0s - 12ms/step - accuracy: 0.4750 - loss: 1.0692 - val_accuracy: 0.5000 - val_loss: 1.0670\n",
            "Epoch 15/50\n",
            "4/4 - 0s - 12ms/step - accuracy: 0.4917 - loss: 1.0656 - val_accuracy: 0.5000 - val_loss: 1.0632\n",
            "Epoch 16/50\n",
            "4/4 - 0s - 13ms/step - accuracy: 0.5000 - loss: 1.0619 - val_accuracy: 0.5000 - val_loss: 1.0594\n",
            "Epoch 17/50\n",
            "4/4 - 0s - 12ms/step - accuracy: 0.5083 - loss: 1.0584 - val_accuracy: 0.5333 - val_loss: 1.0555\n",
            "Epoch 18/50\n",
            "4/4 - 0s - 13ms/step - accuracy: 0.5250 - loss: 1.0545 - val_accuracy: 0.5667 - val_loss: 1.0518\n",
            "Epoch 19/50\n",
            "4/4 - 0s - 13ms/step - accuracy: 0.5833 - loss: 1.0507 - val_accuracy: 0.5667 - val_loss: 1.0480\n",
            "Epoch 20/50\n",
            "4/4 - 0s - 14ms/step - accuracy: 0.5833 - loss: 1.0471 - val_accuracy: 0.6000 - val_loss: 1.0444\n",
            "Epoch 21/50\n",
            "4/4 - 0s - 14ms/step - accuracy: 0.6083 - loss: 1.0430 - val_accuracy: 0.6333 - val_loss: 1.0406\n",
            "Epoch 22/50\n",
            "4/4 - 0s - 14ms/step - accuracy: 0.6333 - loss: 1.0391 - val_accuracy: 0.6333 - val_loss: 1.0369\n",
            "Epoch 23/50\n",
            "4/4 - 0s - 14ms/step - accuracy: 0.6417 - loss: 1.0351 - val_accuracy: 0.6333 - val_loss: 1.0327\n",
            "Epoch 24/50\n",
            "4/4 - 0s - 14ms/step - accuracy: 0.6500 - loss: 1.0309 - val_accuracy: 0.6333 - val_loss: 1.0284\n",
            "Epoch 25/50\n",
            "4/4 - 0s - 33ms/step - accuracy: 0.6500 - loss: 1.0267 - val_accuracy: 0.6333 - val_loss: 1.0242\n",
            "Epoch 26/50\n",
            "4/4 - 0s - 14ms/step - accuracy: 0.6500 - loss: 1.0227 - val_accuracy: 0.6333 - val_loss: 1.0197\n",
            "Epoch 27/50\n",
            "4/4 - 0s - 19ms/step - accuracy: 0.6500 - loss: 1.0181 - val_accuracy: 0.6333 - val_loss: 1.0153\n",
            "Epoch 28/50\n",
            "4/4 - 0s - 14ms/step - accuracy: 0.6500 - loss: 1.0137 - val_accuracy: 0.6333 - val_loss: 1.0107\n",
            "Epoch 29/50\n",
            "4/4 - 0s - 13ms/step - accuracy: 0.6583 - loss: 1.0091 - val_accuracy: 0.6333 - val_loss: 1.0062\n",
            "Epoch 30/50\n",
            "4/4 - 0s - 14ms/step - accuracy: 0.6583 - loss: 1.0045 - val_accuracy: 0.6333 - val_loss: 1.0014\n",
            "Epoch 31/50\n",
            "4/4 - 0s - 13ms/step - accuracy: 0.6583 - loss: 0.9998 - val_accuracy: 0.6333 - val_loss: 0.9966\n",
            "Epoch 32/50\n",
            "4/4 - 0s - 13ms/step - accuracy: 0.6667 - loss: 0.9948 - val_accuracy: 0.6333 - val_loss: 0.9917\n",
            "Epoch 33/50\n",
            "4/4 - 0s - 13ms/step - accuracy: 0.6750 - loss: 0.9899 - val_accuracy: 0.6333 - val_loss: 0.9868\n",
            "Epoch 34/50\n",
            "4/4 - 0s - 13ms/step - accuracy: 0.6750 - loss: 0.9851 - val_accuracy: 0.6333 - val_loss: 0.9814\n",
            "Epoch 35/50\n",
            "4/4 - 0s - 13ms/step - accuracy: 0.6750 - loss: 0.9799 - val_accuracy: 0.6333 - val_loss: 0.9763\n",
            "Epoch 36/50\n",
            "4/4 - 0s - 13ms/step - accuracy: 0.6750 - loss: 0.9745 - val_accuracy: 0.6333 - val_loss: 0.9707\n",
            "Epoch 37/50\n",
            "4/4 - 0s - 14ms/step - accuracy: 0.6750 - loss: 0.9691 - val_accuracy: 0.6333 - val_loss: 0.9650\n",
            "Epoch 38/50\n",
            "4/4 - 0s - 12ms/step - accuracy: 0.6750 - loss: 0.9636 - val_accuracy: 0.6333 - val_loss: 0.9593\n",
            "Epoch 39/50\n",
            "4/4 - 0s - 14ms/step - accuracy: 0.6750 - loss: 0.9580 - val_accuracy: 0.6333 - val_loss: 0.9536\n",
            "Epoch 40/50\n",
            "4/4 - 0s - 14ms/step - accuracy: 0.6750 - loss: 0.9523 - val_accuracy: 0.6333 - val_loss: 0.9478\n",
            "Epoch 41/50\n",
            "4/4 - 0s - 13ms/step - accuracy: 0.6750 - loss: 0.9466 - val_accuracy: 0.6333 - val_loss: 0.9417\n",
            "Epoch 42/50\n",
            "4/4 - 0s - 14ms/step - accuracy: 0.6750 - loss: 0.9408 - val_accuracy: 0.6333 - val_loss: 0.9355\n",
            "Epoch 43/50\n",
            "4/4 - 0s - 13ms/step - accuracy: 0.6750 - loss: 0.9349 - val_accuracy: 0.6333 - val_loss: 0.9296\n",
            "Epoch 44/50\n",
            "4/4 - 0s - 16ms/step - accuracy: 0.6750 - loss: 0.9285 - val_accuracy: 0.6333 - val_loss: 0.9234\n",
            "Epoch 45/50\n",
            "4/4 - 0s - 13ms/step - accuracy: 0.6750 - loss: 0.9225 - val_accuracy: 0.6333 - val_loss: 0.9173\n",
            "Epoch 46/50\n",
            "4/4 - 0s - 14ms/step - accuracy: 0.6750 - loss: 0.9164 - val_accuracy: 0.6333 - val_loss: 0.9109\n",
            "Epoch 47/50\n",
            "4/4 - 0s - 14ms/step - accuracy: 0.6750 - loss: 0.9097 - val_accuracy: 0.6667 - val_loss: 0.9042\n",
            "Epoch 48/50\n",
            "4/4 - 0s - 12ms/step - accuracy: 0.6917 - loss: 0.9035 - val_accuracy: 0.6667 - val_loss: 0.8974\n",
            "Epoch 49/50\n",
            "4/4 - 0s - 12ms/step - accuracy: 0.6917 - loss: 0.8969 - val_accuracy: 0.6667 - val_loss: 0.8904\n",
            "Epoch 50/50\n",
            "4/4 - 0s - 13ms/step - accuracy: 0.6917 - loss: 0.8902 - val_accuracy: 0.6667 - val_loss: 0.8837\n",
            "1/1 - 0s - 21ms/step - accuracy: 0.6667 - loss: 0.8837\n",
            "Test Accuracy (All Sigmoid): 0.6666666865348816\n"
          ]
        }
      ]
    },
    {
      "cell_type": "code",
      "source": [
        "# Define a simple neural network using ReLU activation in all layers\n",
        "def build_model_relu():\n",
        "    model = Sequential([\n",
        "        Dense(10, activation='relu', input_shape=(4,)),  # Hidden layer with ReLU\n",
        "        Dense(10, activation='relu'),  # Another hidden layer with ReLU\n",
        "        Dense(3, activation='softmax')  # Output layer with softmax for classification\n",
        "    ])\n",
        "    model.compile(optimizer='adam', loss='categorical_crossentropy', metrics=['accuracy'])\n",
        "    return model\n",
        "\n",
        "# Build the model\n",
        "model_relu = build_model_relu()\n",
        "\n",
        "# Train the model\n",
        "history_relu = model_relu.fit(X_train, y_train, epochs=50, validation_data=(X_test, y_test), verbose=2)\n",
        "\n",
        "# Evaluate the model\n",
        "test_loss_relu, test_acc_relu = model_relu.evaluate(X_test, y_test, verbose=2)\n",
        "print(f\"Test Accuracy (All ReLU): {test_acc_relu}\")\n"
      ],
      "metadata": {
        "colab": {
          "base_uri": "https://localhost:8080/"
        },
        "id": "4ERikvZbZ9gN",
        "outputId": "60af76bf-5be7-4681-96ea-fb56cea48738"
      },
      "execution_count": null,
      "outputs": [
        {
          "output_type": "stream",
          "name": "stdout",
          "text": [
            "Epoch 1/50\n",
            "4/4 - 4s - 894ms/step - accuracy: 0.5167 - loss: 0.9358 - val_accuracy: 0.6333 - val_loss: 0.9260\n",
            "Epoch 2/50\n",
            "4/4 - 0s - 13ms/step - accuracy: 0.5583 - loss: 0.9029 - val_accuracy: 0.7000 - val_loss: 0.8919\n",
            "Epoch 3/50\n",
            "4/4 - 0s - 12ms/step - accuracy: 0.5917 - loss: 0.8734 - val_accuracy: 0.7000 - val_loss: 0.8603\n",
            "Epoch 4/50\n",
            "4/4 - 0s - 12ms/step - accuracy: 0.6250 - loss: 0.8460 - val_accuracy: 0.7000 - val_loss: 0.8302\n",
            "Epoch 5/50\n",
            "4/4 - 0s - 14ms/step - accuracy: 0.6500 - loss: 0.8187 - val_accuracy: 0.7000 - val_loss: 0.8021\n",
            "Epoch 6/50\n",
            "4/4 - 0s - 11ms/step - accuracy: 0.6583 - loss: 0.7938 - val_accuracy: 0.7333 - val_loss: 0.7753\n",
            "Epoch 7/50\n",
            "4/4 - 0s - 11ms/step - accuracy: 0.6750 - loss: 0.7708 - val_accuracy: 0.7333 - val_loss: 0.7500\n",
            "Epoch 8/50\n",
            "4/4 - 0s - 15ms/step - accuracy: 0.6750 - loss: 0.7490 - val_accuracy: 0.7333 - val_loss: 0.7261\n",
            "Epoch 9/50\n",
            "4/4 - 0s - 15ms/step - accuracy: 0.6750 - loss: 0.7274 - val_accuracy: 0.7333 - val_loss: 0.7037\n",
            "Epoch 10/50\n",
            "4/4 - 0s - 14ms/step - accuracy: 0.6750 - loss: 0.7078 - val_accuracy: 0.7333 - val_loss: 0.6827\n",
            "Epoch 11/50\n",
            "4/4 - 0s - 13ms/step - accuracy: 0.7000 - loss: 0.6888 - val_accuracy: 0.7333 - val_loss: 0.6634\n",
            "Epoch 12/50\n",
            "4/4 - 0s - 11ms/step - accuracy: 0.7083 - loss: 0.6715 - val_accuracy: 0.7333 - val_loss: 0.6446\n",
            "Epoch 13/50\n",
            "4/4 - 0s - 12ms/step - accuracy: 0.7167 - loss: 0.6553 - val_accuracy: 0.7333 - val_loss: 0.6263\n",
            "Epoch 14/50\n",
            "4/4 - 0s - 15ms/step - accuracy: 0.7167 - loss: 0.6392 - val_accuracy: 0.7333 - val_loss: 0.6096\n",
            "Epoch 15/50\n",
            "4/4 - 0s - 15ms/step - accuracy: 0.7167 - loss: 0.6250 - val_accuracy: 0.7333 - val_loss: 0.5935\n",
            "Epoch 16/50\n",
            "4/4 - 0s - 13ms/step - accuracy: 0.7167 - loss: 0.6113 - val_accuracy: 0.7333 - val_loss: 0.5782\n",
            "Epoch 17/50\n",
            "4/4 - 0s - 11ms/step - accuracy: 0.7167 - loss: 0.5978 - val_accuracy: 0.7333 - val_loss: 0.5640\n",
            "Epoch 18/50\n",
            "4/4 - 0s - 15ms/step - accuracy: 0.7167 - loss: 0.5854 - val_accuracy: 0.7333 - val_loss: 0.5507\n",
            "Epoch 19/50\n",
            "4/4 - 0s - 14ms/step - accuracy: 0.7333 - loss: 0.5734 - val_accuracy: 0.7667 - val_loss: 0.5382\n",
            "Epoch 20/50\n",
            "4/4 - 0s - 13ms/step - accuracy: 0.7500 - loss: 0.5621 - val_accuracy: 0.7667 - val_loss: 0.5263\n",
            "Epoch 21/50\n",
            "4/4 - 0s - 13ms/step - accuracy: 0.7667 - loss: 0.5514 - val_accuracy: 0.8000 - val_loss: 0.5145\n",
            "Epoch 22/50\n",
            "4/4 - 0s - 14ms/step - accuracy: 0.7750 - loss: 0.5409 - val_accuracy: 0.8000 - val_loss: 0.5034\n",
            "Epoch 23/50\n",
            "4/4 - 0s - 12ms/step - accuracy: 0.7917 - loss: 0.5309 - val_accuracy: 0.8000 - val_loss: 0.4928\n",
            "Epoch 24/50\n",
            "4/4 - 0s - 12ms/step - accuracy: 0.8083 - loss: 0.5211 - val_accuracy: 0.8000 - val_loss: 0.4829\n",
            "Epoch 25/50\n",
            "4/4 - 0s - 11ms/step - accuracy: 0.8250 - loss: 0.5115 - val_accuracy: 0.8000 - val_loss: 0.4732\n",
            "Epoch 26/50\n",
            "4/4 - 0s - 11ms/step - accuracy: 0.8417 - loss: 0.5027 - val_accuracy: 0.8000 - val_loss: 0.4641\n",
            "Epoch 27/50\n",
            "4/4 - 0s - 11ms/step - accuracy: 0.8417 - loss: 0.4939 - val_accuracy: 0.8000 - val_loss: 0.4550\n",
            "Epoch 28/50\n",
            "4/4 - 0s - 10ms/step - accuracy: 0.8500 - loss: 0.4854 - val_accuracy: 0.8000 - val_loss: 0.4464\n",
            "Epoch 29/50\n",
            "4/4 - 0s - 11ms/step - accuracy: 0.8417 - loss: 0.4774 - val_accuracy: 0.8000 - val_loss: 0.4383\n",
            "Epoch 30/50\n",
            "4/4 - 0s - 14ms/step - accuracy: 0.8500 - loss: 0.4696 - val_accuracy: 0.8000 - val_loss: 0.4304\n",
            "Epoch 31/50\n",
            "4/4 - 0s - 10ms/step - accuracy: 0.8500 - loss: 0.4622 - val_accuracy: 0.8000 - val_loss: 0.4229\n",
            "Epoch 32/50\n",
            "4/4 - 0s - 15ms/step - accuracy: 0.8500 - loss: 0.4547 - val_accuracy: 0.8000 - val_loss: 0.4156\n",
            "Epoch 33/50\n",
            "4/4 - 0s - 12ms/step - accuracy: 0.8500 - loss: 0.4476 - val_accuracy: 0.8333 - val_loss: 0.4085\n",
            "Epoch 34/50\n",
            "4/4 - 0s - 12ms/step - accuracy: 0.8500 - loss: 0.4407 - val_accuracy: 0.8333 - val_loss: 0.4016\n",
            "Epoch 35/50\n",
            "4/4 - 0s - 12ms/step - accuracy: 0.8500 - loss: 0.4340 - val_accuracy: 0.8333 - val_loss: 0.3948\n",
            "Epoch 36/50\n",
            "4/4 - 0s - 12ms/step - accuracy: 0.8500 - loss: 0.4275 - val_accuracy: 0.8333 - val_loss: 0.3881\n",
            "Epoch 37/50\n",
            "4/4 - 0s - 35ms/step - accuracy: 0.8583 - loss: 0.4207 - val_accuracy: 0.8333 - val_loss: 0.3817\n",
            "Epoch 38/50\n",
            "4/4 - 0s - 32ms/step - accuracy: 0.8583 - loss: 0.4148 - val_accuracy: 0.8333 - val_loss: 0.3756\n",
            "Epoch 39/50\n",
            "4/4 - 0s - 12ms/step - accuracy: 0.8583 - loss: 0.4086 - val_accuracy: 0.8333 - val_loss: 0.3696\n",
            "Epoch 40/50\n",
            "4/4 - 0s - 12ms/step - accuracy: 0.8667 - loss: 0.4025 - val_accuracy: 0.8333 - val_loss: 0.3635\n",
            "Epoch 41/50\n",
            "4/4 - 0s - 13ms/step - accuracy: 0.8667 - loss: 0.3964 - val_accuracy: 0.8333 - val_loss: 0.3577\n",
            "Epoch 42/50\n",
            "4/4 - 0s - 10ms/step - accuracy: 0.8667 - loss: 0.3908 - val_accuracy: 0.8333 - val_loss: 0.3518\n",
            "Epoch 43/50\n",
            "4/4 - 0s - 15ms/step - accuracy: 0.8750 - loss: 0.3853 - val_accuracy: 0.8333 - val_loss: 0.3459\n",
            "Epoch 44/50\n",
            "4/4 - 0s - 11ms/step - accuracy: 0.8833 - loss: 0.3797 - val_accuracy: 0.8333 - val_loss: 0.3403\n",
            "Epoch 45/50\n",
            "4/4 - 0s - 11ms/step - accuracy: 0.8917 - loss: 0.3740 - val_accuracy: 0.8667 - val_loss: 0.3349\n",
            "Epoch 46/50\n",
            "4/4 - 0s - 14ms/step - accuracy: 0.8917 - loss: 0.3690 - val_accuracy: 0.9000 - val_loss: 0.3296\n",
            "Epoch 47/50\n",
            "4/4 - 0s - 10ms/step - accuracy: 0.9000 - loss: 0.3633 - val_accuracy: 0.9000 - val_loss: 0.3245\n",
            "Epoch 48/50\n",
            "4/4 - 0s - 14ms/step - accuracy: 0.9000 - loss: 0.3582 - val_accuracy: 0.9000 - val_loss: 0.3193\n",
            "Epoch 49/50\n",
            "4/4 - 0s - 14ms/step - accuracy: 0.9000 - loss: 0.3532 - val_accuracy: 0.9000 - val_loss: 0.3141\n",
            "Epoch 50/50\n",
            "4/4 - 0s - 13ms/step - accuracy: 0.9083 - loss: 0.3481 - val_accuracy: 0.9000 - val_loss: 0.3090\n",
            "1/1 - 0s - 21ms/step - accuracy: 0.9000 - loss: 0.3090\n",
            "Test Accuracy (All ReLU): 0.8999999761581421\n"
          ]
        }
      ]
    },
    {
      "cell_type": "code",
      "source": [
        "from tensorflow.keras.layers import LeakyReLU\n",
        "\n",
        "# Define a simple neural network using Leaky ReLU activation in all layers\n",
        "def build_model_leaky_relu():\n",
        "    model = Sequential([\n",
        "        Dense(10, input_shape=(4,)),  # First hidden layer without activation, add LeakyReLU separately\n",
        "        LeakyReLU(alpha=0.01),  # Leaky ReLU activation with small slope for negative values\n",
        "        Dense(10),  # Second hidden layer\n",
        "        LeakyReLU(alpha=0.01),  # Leaky ReLU activation\n",
        "        Dense(3, activation='softmax')  # Output layer with softmax for classification\n",
        "    ])\n",
        "    model.compile(optimizer='adam', loss='categorical_crossentropy', metrics=['accuracy'])\n",
        "    return model\n",
        "\n",
        "# Build the model with Leaky ReLU\n",
        "model_leaky_relu = build_model_leaky_relu()\n",
        "\n",
        "# Train the model\n",
        "history_leaky_relu = model_leaky_relu.fit(X_train, y_train, epochs=50, validation_data=(X_test, y_test), verbose=2)\n",
        "\n",
        "# Evaluate the model\n",
        "test_loss_leaky_relu, test_acc_leaky_relu = model_leaky_relu.evaluate(X_test, y_test, verbose=2)\n",
        "print(f\"Test Accuracy (Leaky ReLU): {test_acc_leaky_relu}\")\n"
      ],
      "metadata": {
        "colab": {
          "base_uri": "https://localhost:8080/"
        },
        "id": "eWiHr1UKaw26",
        "outputId": "33aa5af7-6220-45c3-dc2d-8f2106a934e4"
      },
      "execution_count": null,
      "outputs": [
        {
          "output_type": "stream",
          "name": "stdout",
          "text": [
            "Epoch 1/50\n",
            "4/4 - 2s - 519ms/step - accuracy: 0.2083 - loss: 1.2462 - val_accuracy: 0.2000 - val_loss: 1.2702\n",
            "Epoch 2/50\n",
            "4/4 - 0s - 13ms/step - accuracy: 0.2167 - loss: 1.2113 - val_accuracy: 0.2333 - val_loss: 1.2314\n",
            "Epoch 3/50\n",
            "4/4 - 0s - 18ms/step - accuracy: 0.2417 - loss: 1.1798 - val_accuracy: 0.3000 - val_loss: 1.1945\n",
            "Epoch 4/50\n",
            "4/4 - 0s - 12ms/step - accuracy: 0.2833 - loss: 1.1527 - val_accuracy: 0.3333 - val_loss: 1.1602\n",
            "Epoch 5/50\n",
            "4/4 - 0s - 13ms/step - accuracy: 0.3500 - loss: 1.1267 - val_accuracy: 0.3333 - val_loss: 1.1299\n",
            "Epoch 6/50\n",
            "4/4 - 0s - 11ms/step - accuracy: 0.3750 - loss: 1.1031 - val_accuracy: 0.3667 - val_loss: 1.1028\n",
            "Epoch 7/50\n",
            "4/4 - 0s - 14ms/step - accuracy: 0.4167 - loss: 1.0832 - val_accuracy: 0.4000 - val_loss: 1.0768\n",
            "Epoch 8/50\n",
            "4/4 - 0s - 10ms/step - accuracy: 0.4417 - loss: 1.0631 - val_accuracy: 0.4000 - val_loss: 1.0534\n",
            "Epoch 9/50\n",
            "4/4 - 0s - 10ms/step - accuracy: 0.4833 - loss: 1.0458 - val_accuracy: 0.4333 - val_loss: 1.0314\n",
            "Epoch 10/50\n",
            "4/4 - 0s - 14ms/step - accuracy: 0.5000 - loss: 1.0281 - val_accuracy: 0.5000 - val_loss: 1.0114\n",
            "Epoch 11/50\n",
            "4/4 - 0s - 10ms/step - accuracy: 0.5417 - loss: 1.0117 - val_accuracy: 0.5667 - val_loss: 0.9923\n",
            "Epoch 12/50\n",
            "4/4 - 0s - 11ms/step - accuracy: 0.5917 - loss: 0.9965 - val_accuracy: 0.6000 - val_loss: 0.9732\n",
            "Epoch 13/50\n",
            "4/4 - 0s - 11ms/step - accuracy: 0.6167 - loss: 0.9801 - val_accuracy: 0.7333 - val_loss: 0.9544\n",
            "Epoch 14/50\n",
            "4/4 - 0s - 14ms/step - accuracy: 0.6583 - loss: 0.9643 - val_accuracy: 0.7333 - val_loss: 0.9358\n",
            "Epoch 15/50\n",
            "4/4 - 0s - 12ms/step - accuracy: 0.6833 - loss: 0.9488 - val_accuracy: 0.7667 - val_loss: 0.9175\n",
            "Epoch 16/50\n",
            "4/4 - 0s - 14ms/step - accuracy: 0.7250 - loss: 0.9339 - val_accuracy: 0.8000 - val_loss: 0.8992\n",
            "Epoch 17/50\n",
            "4/4 - 0s - 16ms/step - accuracy: 0.7750 - loss: 0.9172 - val_accuracy: 0.8000 - val_loss: 0.8813\n",
            "Epoch 18/50\n",
            "4/4 - 0s - 20ms/step - accuracy: 0.8000 - loss: 0.9005 - val_accuracy: 0.8667 - val_loss: 0.8633\n",
            "Epoch 19/50\n",
            "4/4 - 0s - 15ms/step - accuracy: 0.8250 - loss: 0.8852 - val_accuracy: 0.9000 - val_loss: 0.8452\n",
            "Epoch 20/50\n",
            "4/4 - 0s - 11ms/step - accuracy: 0.8250 - loss: 0.8687 - val_accuracy: 0.9000 - val_loss: 0.8275\n",
            "Epoch 21/50\n",
            "4/4 - 0s - 14ms/step - accuracy: 0.8250 - loss: 0.8518 - val_accuracy: 0.9000 - val_loss: 0.8098\n",
            "Epoch 22/50\n",
            "4/4 - 0s - 14ms/step - accuracy: 0.8417 - loss: 0.8355 - val_accuracy: 0.9000 - val_loss: 0.7919\n",
            "Epoch 23/50\n",
            "4/4 - 0s - 11ms/step - accuracy: 0.8500 - loss: 0.8190 - val_accuracy: 0.9000 - val_loss: 0.7737\n",
            "Epoch 24/50\n",
            "4/4 - 0s - 11ms/step - accuracy: 0.8417 - loss: 0.8016 - val_accuracy: 0.9333 - val_loss: 0.7559\n",
            "Epoch 25/50\n",
            "4/4 - 0s - 11ms/step - accuracy: 0.8417 - loss: 0.7853 - val_accuracy: 0.9333 - val_loss: 0.7379\n",
            "Epoch 26/50\n",
            "4/4 - 0s - 14ms/step - accuracy: 0.8500 - loss: 0.7687 - val_accuracy: 0.9333 - val_loss: 0.7201\n",
            "Epoch 27/50\n",
            "4/4 - 0s - 11ms/step - accuracy: 0.8583 - loss: 0.7520 - val_accuracy: 0.9333 - val_loss: 0.7026\n",
            "Epoch 28/50\n",
            "4/4 - 0s - 14ms/step - accuracy: 0.8583 - loss: 0.7356 - val_accuracy: 0.9333 - val_loss: 0.6852\n",
            "Epoch 29/50\n",
            "4/4 - 0s - 12ms/step - accuracy: 0.8583 - loss: 0.7195 - val_accuracy: 0.9333 - val_loss: 0.6679\n",
            "Epoch 30/50\n",
            "4/4 - 0s - 13ms/step - accuracy: 0.8583 - loss: 0.7035 - val_accuracy: 0.9333 - val_loss: 0.6513\n",
            "Epoch 31/50\n",
            "4/4 - 0s - 14ms/step - accuracy: 0.8500 - loss: 0.6877 - val_accuracy: 0.9333 - val_loss: 0.6351\n",
            "Epoch 32/50\n",
            "4/4 - 0s - 11ms/step - accuracy: 0.8500 - loss: 0.6727 - val_accuracy: 0.9333 - val_loss: 0.6192\n",
            "Epoch 33/50\n",
            "4/4 - 0s - 13ms/step - accuracy: 0.8500 - loss: 0.6582 - val_accuracy: 0.9333 - val_loss: 0.6035\n",
            "Epoch 34/50\n",
            "4/4 - 0s - 15ms/step - accuracy: 0.8500 - loss: 0.6444 - val_accuracy: 0.9333 - val_loss: 0.5879\n",
            "Epoch 35/50\n",
            "4/4 - 0s - 16ms/step - accuracy: 0.8500 - loss: 0.6299 - val_accuracy: 0.9333 - val_loss: 0.5731\n",
            "Epoch 36/50\n",
            "4/4 - 0s - 32ms/step - accuracy: 0.8500 - loss: 0.6165 - val_accuracy: 0.9333 - val_loss: 0.5589\n",
            "Epoch 37/50\n",
            "4/4 - 0s - 12ms/step - accuracy: 0.8500 - loss: 0.6035 - val_accuracy: 0.9333 - val_loss: 0.5445\n",
            "Epoch 38/50\n",
            "4/4 - 0s - 15ms/step - accuracy: 0.8500 - loss: 0.5904 - val_accuracy: 0.9333 - val_loss: 0.5305\n",
            "Epoch 39/50\n",
            "4/4 - 0s - 12ms/step - accuracy: 0.8500 - loss: 0.5777 - val_accuracy: 0.9333 - val_loss: 0.5170\n",
            "Epoch 40/50\n",
            "4/4 - 0s - 11ms/step - accuracy: 0.8583 - loss: 0.5657 - val_accuracy: 0.9333 - val_loss: 0.5038\n",
            "Epoch 41/50\n",
            "4/4 - 0s - 11ms/step - accuracy: 0.8667 - loss: 0.5528 - val_accuracy: 0.9333 - val_loss: 0.4908\n",
            "Epoch 42/50\n",
            "4/4 - 0s - 14ms/step - accuracy: 0.8750 - loss: 0.5406 - val_accuracy: 0.9333 - val_loss: 0.4780\n",
            "Epoch 43/50\n",
            "4/4 - 0s - 14ms/step - accuracy: 0.8750 - loss: 0.5285 - val_accuracy: 0.9333 - val_loss: 0.4651\n",
            "Epoch 44/50\n",
            "4/4 - 0s - 14ms/step - accuracy: 0.8750 - loss: 0.5164 - val_accuracy: 0.9333 - val_loss: 0.4521\n",
            "Epoch 45/50\n",
            "4/4 - 0s - 14ms/step - accuracy: 0.8750 - loss: 0.5046 - val_accuracy: 0.9333 - val_loss: 0.4399\n",
            "Epoch 46/50\n",
            "4/4 - 0s - 10ms/step - accuracy: 0.8750 - loss: 0.4934 - val_accuracy: 0.9333 - val_loss: 0.4279\n",
            "Epoch 47/50\n",
            "4/4 - 0s - 10ms/step - accuracy: 0.8833 - loss: 0.4826 - val_accuracy: 0.9333 - val_loss: 0.4162\n",
            "Epoch 48/50\n",
            "4/4 - 0s - 15ms/step - accuracy: 0.8833 - loss: 0.4726 - val_accuracy: 0.9333 - val_loss: 0.4049\n",
            "Epoch 49/50\n",
            "4/4 - 0s - 13ms/step - accuracy: 0.8833 - loss: 0.4625 - val_accuracy: 0.9333 - val_loss: 0.3941\n",
            "Epoch 50/50\n",
            "4/4 - 0s - 14ms/step - accuracy: 0.8833 - loss: 0.4526 - val_accuracy: 0.9333 - val_loss: 0.3837\n",
            "1/1 - 0s - 22ms/step - accuracy: 0.9333 - loss: 0.3837\n",
            "Test Accuracy (Leaky ReLU): 0.9333333373069763\n"
          ]
        }
      ]
    },
    {
      "cell_type": "code",
      "source": [
        "import matplotlib.pyplot as plt\n",
        "\n",
        "# Plot training and validation accuracy\n",
        "plt.plot(history_sigmoid.history['accuracy'], label='Sigmoid Accuracy')\n",
        "plt.plot(history_relu.history['accuracy'], label='ReLU Accuracy')\n",
        "plt.plot(history_leaky_relu.history['accuracy'], label='Leaky ReLU Accuracy')\n",
        "plt.xlabel('Epochs')\n",
        "plt.ylabel('Accuracy')\n",
        "plt.legend()\n",
        "plt.show()\n"
      ],
      "metadata": {
        "colab": {
          "base_uri": "https://localhost:8080/",
          "height": 449
        },
        "id": "Pvj08eLkaGD7",
        "outputId": "b8565f36-e8ec-4e7b-cb7b-b521485e8e6b"
      },
      "execution_count": null,
      "outputs": [
        {
          "output_type": "display_data",
          "data": {
            "text/plain": [
              "<Figure size 640x480 with 1 Axes>"
            ],
            "image/png": "[encoded data removed]"
          },
          "metadata": {}
        }
      ]
    },
    {
      "cell_type": "code",
      "source": [],
      "metadata": {
        "id": "IQ4b8N34abAG"
      },
      "execution_count": null,
      "outputs": []
    }
  ]
}